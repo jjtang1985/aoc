{
  "metadata": {
    "kernelspec": {
      "name": "python",
      "display_name": "Python (Pyodide)",
      "language": "python"
    },
    "language_info": {
      "codemirror_mode": {
        "name": "python",
        "version": 3
      },
      "file_extension": ".py",
      "mimetype": "text/x-python",
      "name": "python",
      "nbconvert_exporter": "python",
      "pygments_lexer": "ipython3",
      "version": "3.8"
    }
  },
  "nbformat_minor": 4,
  "nbformat": 4,
  "cells": [
    {
      "cell_type": "code",
      "source": "data = '''\n%jx -> rt, rs\n&cc -> cd, fc, qr, nl, gk, zr\n%qs -> cl, rs\n%zr -> cq\n%mx -> nr, pm\n%mj -> qr, cc\n%cj -> cc, nt\n%jv -> sp\n%dj -> bd, zc\n%kt -> lt\nbroadcaster -> gz, xg, cd, sg\n&dn -> rx\n%br -> nf, bd\n%cd -> cc, nl\n%zc -> jq, bd\n%xg -> cf, pm\n%nz -> gm, bd\n&dd -> dn\n%nb -> sl\n&pm -> kt, xg, xp, jv, sp\n&fh -> dn\n%rt -> qq\n%qq -> rs, hd\n%hd -> qs, rs\n&xp -> dn\n%pj -> cc, mj\n%gz -> bd, kb\n%zd -> jv, pm\n%cq -> cj, cc\n%qr -> gk\n%ng -> jk, bd\n%kb -> bd, sv\n%cl -> zx, rs\n%gj -> zd, pm\n%sl -> kx\n%sv -> br\n%nf -> bd, nz\n%zx -> rs\n%nt -> mn, cc\n%rh -> nb, rs\n%gk -> ln\n&bd -> gm, gz, fh, sv\n%jq -> ng, bd\n%sp -> pc\n%sg -> rs, rh\n%kx -> jx\n&fc -> dn\n%cf -> gj, pm\n%pc -> kt, pm\n%jk -> bd\n%vf -> pm\n&rs -> sg, dd, sl, kx, nb, rt\n%nr -> vf, pm\n%ln -> zr, cc\n%lt -> pm, mx\n%gm -> dj\n%nl -> pj\n%mn -> cc\n'''",
      "metadata": {
        "trusted": true
      },
      "outputs": [],
      "execution_count": 20
    },
    {
      "cell_type": "code",
      "source": "# %: Flip-flop: on/off, init: off\n# got high pulse: ignore\n# got low: \n#     off -> on  -> send high\n#     on  -> off -> send low\n\n# &: Conjunction: remember last pulse of connected input modules\n# default: low for each input\n# got purse:\n#     update input info ->\n#         if all high -> send low\n#         else -> send high\n\n# broadcast: forward same pulse to all destination modules, button -> send low\n\n# input_d = '''\n# broadcaster -> a, b, c\n# %a -> b\n# %b -> c\n# %c -> inv\n# &inv -> a\n# '''\n\n# input_d = '''\n# broadcaster -> a\n# %a -> inv, con\n# &inv -> b\n# %b -> con\n# &con -> output\n# '''\n\ndef get_next_conjuction_pulse(conjuction_module, flip_flop, conjunction_input):\n    is_all_high = all([pulse == 'h' for pulse in list(conjunction_input[conjuction_module].values())])\n    return 'l' if is_all_high else 'h'\n\ndef get_next_flip_flop_pulse(is_original_status_on):\n    return 'l' if is_original_status_on else 'h'\n\n# todo: ex2: output\ndef parse_input(input_d, broadcaster, flip_flop, conjunction_output):\n    for line in input_d.strip().split(\"\\n\"):\n        (left, right) = line.split(\" -> \")\n        if left == \"broadcaster\":\n            [broadcaster.append(e) for e in right.split(\", \")]\n        elif left[0] == '%':\n            flip_flop[left[1:]] = (right.split(\", \"), 'l', False)\n        elif left[0] == '&':\n            conjunction_output[left[1:]] = (right.split(\", \"), 'l')\n        else:\n            raise Exception('invalid line: ', line)\n    return\n\ndef build_conjunction_input(flip_flop, conjunction_output, conjunction_input):\n    conjunction_output_keys = list(conjunction_output.keys())\n    for key in conjunction_output_keys:\n        conjunction_input[key] = {}\n    for entry in flip_flop.items():\n        for dest in entry[1][0]:\n            if dest in conjunction_output_keys:\n                conjunction_input[dest].update({entry[0]: 'l'})\n    return\n    \n# [target1, target2 ...]\nbroadcaster = []\n# ff value: dest, h/l, is_on\n# {ff1: ([t1, t2], 'l', False)}\nflip_flop = {}\n# con output value: dest, h/l\n# {c1: [t1, t2], 'h'}\nconjunction_output = {}\n# con input value: input module to pulse map\n# {c1: {i1: 'h', i2: 'l'}}\nconjunction_input = {}\n\nparse_input(input_d, broadcaster, flip_flop, conjunction_output)\nbuild_conjunction_input(flip_flop, conjunction_output, conjunction_input)\n\ncount_h = 0\ncount_l = 0\n\nfor round in range(1000):\n    tasks = []\n    tasks.append(('button', 'l', 'broadcaster'))\n    \n    while_loop = 0\n    while len(tasks) > 0:\n        while_loop += 1\n        if while_loop > 999:\n            raise Exception(while_loop)\n        current_task = tasks.pop(0)\n        # task 2 starts\n        # &dd -> dn\n        # &fh -> dn\n        # &xp -> dn\n        # &fc -> dn\n        # if current_task[2] == 'dn' and current_task[0] == 'dd' and current_task[1] == 'h':\n        # if current_task[2] == 'dn' and current_task[0] == 'fh' and current_task[1] == 'h':\n        # if current_task[2] == 'dn' and current_task[0] == 'xp' and current_task[1] == 'h':\n        # if current_task[2] == 'dn' and current_task[0] == 'fc' and current_task[1] == 'h':\n        #     print(round + 1, current_task)\n        # tast 2 ends\n        \n        if current_task[1] == 'h':\n            count_h += 1\n        else:\n            count_l += 1\n        # broadcaster\n        if current_task[2] == 'broadcaster':\n            next_pulse = 'l'\n            [tasks.append((current_task[2], next_pulse, e)) for e in broadcaster]\n    \n        # flip flop\n        flip_flop_instance = flip_flop.get(current_task[2], None)\n        if flip_flop_instance is not None:\n            # high is ignored\n            if current_task[1] == 'l':\n                ( dest, pulse, is_on ) = flip_flop_instance\n                next_pulse = get_next_flip_flop_pulse(is_on)\n                is_on = not is_on\n                # update current pulse & is_on\n                flip_flop.update({current_task[2]: (dest, current_task[1], is_on)})\n                # next task\n                [tasks.append((current_task[2], next_pulse, e)) for e in dest]\n        # conjuction\n        conjuction_output_instance = conjunction_output.get(current_task[2], None)\n        if conjuction_output_instance is not None:\n            ( dest, pulse ) = conjuction_output_instance\n            # update input info\n            conjunction_input[current_task[2]].update({current_task[0]: current_task[1]})\n            input_modules = conjunction_input.get(current_task[2])\n            # next purse\n            next_pulse = get_next_conjuction_pulse(current_task[2], flip_flop, conjunction_input)\n            # update current pulse\n            conjunction_output.update({current_task[2]: (dest, current_task[1])})\n            # next task\n            [tasks.append((current_task[2], next_pulse, e)) for e in dest]\n        # outcome\n        else:\n            continue\nprint(count_h*count_l)",
      "metadata": {
        "trusted": true
      },
      "outputs": [
        {
          "name": "stdout",
          "text": "899848294\n",
          "output_type": "stream"
        }
      ],
      "execution_count": 29
    },
    {
      "cell_type": "code",
      "source": "print(4003*4027*3919*3917)",
      "metadata": {
        "trusted": true
      },
      "outputs": [
        {
          "name": "stdout",
          "text": "247454898168563\n",
          "output_type": "stream"
        }
      ],
      "execution_count": 27
    },
    {
      "cell_type": "code",
      "source": "",
      "metadata": {
        "trusted": true
      },
      "outputs": [],
      "execution_count": null
    }
  ]
}
