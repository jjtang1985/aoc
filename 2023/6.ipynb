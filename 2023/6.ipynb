{
  "metadata": {
    "kernelspec": {
      "name": "python",
      "display_name": "Python (Pyodide)",
      "language": "python"
    },
    "language_info": {
      "codemirror_mode": {
        "name": "python",
        "version": 3
      },
      "file_extension": ".py",
      "mimetype": "text/x-python",
      "name": "python",
      "nbconvert_exporter": "python",
      "pygments_lexer": "ipython3",
      "version": "3.8"
    }
  },
  "nbformat_minor": 4,
  "nbformat": 4,
  "cells": [
    {
      "cell_type": "code",
      "source": "input_text = \"\"\"\nTime:        60     80     86     76\nDistance:   601   1163   1559   1300\n\"\"\"",
      "metadata": {
        "trusted": true
      },
      "outputs": [],
      "execution_count": 37
    },
    {
      "cell_type": "code",
      "source": "input_text = \"\"\"\nTime:      7  15   30\nDistance:  9  40  200\n\"\"\"\n\ninput_map = {}\nfor line in input_text.strip().split('\\n'):\n    line_name, line_data = line.split(\":\")\n    line_data_list = line_data.strip().split()\n    input_map[line_name] = line_data_list\ntime_list = input_map['Time']\ndis_list = input_map['Distance']\n# print('time_list', time_list)\n# print('dis_list', dis_list)\nres = 1\n\nfor time_idx in range(len(time_list)):\n    time = int(time_list[time_idx])\n    dis = int(dis_list[time_idx])\n    # print('time', time)\n    # print('dis', dis)\n    for i in range(1, int(time/2) + 1):\n        # print(i)\n        # beat means equal??\n        if i * (time-i) > dis:\n            win_start = i\n            win_ways = time - i - i +1\n            break\n    # print('win_start', win_start)\n    # print('win_ways', win_ways)\n    res = res * win_ways\n    print()\n\nprint(res)\n",
      "metadata": {
        "trusted": true
      },
      "outputs": [
        {
          "name": "stdout",
          "text": "win_ways 35\n\nwin_ways 41\n\nwin_ways 35\n\nwin_ways 23\n\n1155175\n",
          "output_type": "stream"
        }
      ],
      "execution_count": 26
    },
    {
      "cell_type": "code",
      "source": "input_text = \"\"\"\nTime:      7  15   30\nDistance:  9  40  200\n\"\"\"\n\ninput_map = {}\nfor line in input_text.strip().split('\\n'):\n    line_name, line_data = line.split(\":\")\n    line_data_list = line_data.strip().split()\n    input_map[line_name] = line_data_list\ntime_list = input_map['Time']\ndis_list = input_map['Distance']\n# print('time_list', time_list)\n# print('dis_list', dis_list)\nres = 1\n\nfor time_idx in range(len(time_list)):\n    time = int(time_list[time_idx])\n    dis = int(dis_list[time_idx])\n    # print('time', time)\n    # print('dis', dis)\n    for i in range(1, int(time/2) + 1):\n        # print(i)\n        # beat means equal??\n        if i * (time-i) > dis:\n            win_start = i\n            win_ways = time - i - i +1\n            break\n    # print('win_start', win_start)\n    # print('win_ways', win_ways)\n    res = res * win_ways\n    # print()\n\nprint(res)",
      "metadata": {
        "trusted": true
      },
      "outputs": [
        {
          "name": "stdout",
          "text": "288\n",
          "output_type": "stream"
        }
      ],
      "execution_count": 29
    },
    {
      "cell_type": "code",
      "source": "# input_text = \"\"\"\n# Time:      7  15   30\n# Distance:  9  40  200\n# \"\"\"\n\ninput_map = {}\nfor line in input_text.strip().split('\\n'):\n    line_name, line_data = line.split(\":\")\n    line_data_list = line_data.strip().split()\n    input_map[line_name] = line_data_list\ntime_list = input_map['Time']\ndis_list = input_map['Distance']\ntime_int = int(''.join(time_list))\ndis_int = int(''.join(dis_list))\nprint('time_int', time_int)\nprint('dis_int', dis_int)\nres = 1\n\n\nfor i in range(1, int(time_int/2) + 1):\n    # print(i)\n    # beat means equal??\n    if i * (time_int - i) > dis_int:\n        win_start = i\n        win_ways = time_int - i - i +1\n        break\nprint('win_start', win_start)\nprint('win_ways', win_ways)\nres = res * win_ways\n\nprint(res)\n\n# best solution\n# a + b = c\n# a * b > d\n# b = (c+-root(c^2-4d))/2",
      "metadata": {
        "trusted": true
      },
      "outputs": [
        {
          "name": "stdout",
          "text": "time_int 60808676\ndis_int 601116315591300\nwin_start 12423586\nwin_ways 35961505\n35961505\n",
          "output_type": "stream"
        }
      ],
      "execution_count": 38
    },
    {
      "cell_type": "code",
      "source": "",
      "metadata": {
        "trusted": true
      },
      "outputs": [],
      "execution_count": null
    }
  ]
}
